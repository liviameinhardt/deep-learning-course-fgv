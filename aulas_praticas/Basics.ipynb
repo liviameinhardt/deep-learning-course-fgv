{
 "cells": [
  {
   "cell_type": "markdown",
   "id": "add0afbc",
   "metadata": {},
   "source": [
    "# Introdução ao Pytorch e Conceitos Básicos"
   ]
  },
  {
   "cell_type": "markdown",
   "id": "664657f8",
   "metadata": {},
   "source": [
    "## Framework: O que é o Pytorch?"
   ]
  },
  {
   "cell_type": "markdown",
   "id": "6929a221",
   "metadata": {},
   "source": [
    "PyTorch é um framework de deep learning de código aberto desenvolvido pela Meta. Ele é usado para criar e treinar redes neurais, combinando a biblioteca de aprendizado de máquina Torch com uma API de alto nível em Python. É bastante popular na comunidade acadêmica e de pesquisa devido à sua flexibilidade e facilidade de uso.\n",
    "\n",
    "### Outros frameworks\n",
    "Veja uma comparação do Pytorch, Tensorflow e JAX [aqui](https://medium.com/@aranya.ray1998/ai-framework-face-off-choosing-between-tensorflow-pytorch-and-jax-5e26f5e60629)\n",
    "\n",
    "### Como executar\n",
    "\n",
    "1. Rodar localmente [instruções de instalação](https://pytorch.org/get-started/locally/)\n",
    "2. Rodar no Colab, Kaggle, etc"
   ]
  },
  {
   "cell_type": "code",
   "execution_count": null,
   "id": "62ddef9e",
   "metadata": {},
   "outputs": [],
   "source": [
    "import torch\n",
    "import numpy as np"
   ]
  },
  {
   "cell_type": "markdown",
   "id": "2a917ef0",
   "metadata": {},
   "source": [
    "## Tensores"
   ]
  },
  {
   "cell_type": "markdown",
   "id": "c534e9af",
   "metadata": {},
   "source": [
    "Tensores são estruturas de dados semelhantes a arrays e matrizes, usadas no PyTorch para representar entradas, saídas e parâmetros de modelos. Diferem dos ndarrays do NumPy por poderem rodar em GPUs, compartilhar memória com arrays do NumPy e serem otimizados para diferenciação automática.\n",
    "\n",
    "Podem ser criados de várias formas:"
   ]
  },
  {
   "cell_type": "code",
   "execution_count": 215,
   "id": "665909b3",
   "metadata": {},
   "outputs": [
    {
     "name": "stdout",
     "output_type": "stream",
     "text": [
      "tensor([[1, 2],\n",
      "        [3, 4]])\n"
     ]
    }
   ],
   "source": [
    "#inicializando direto do dado (o tipo é inferido automaticamente)\n",
    "data = [[1, 2],[3, 4]]\n",
    "x_data = torch.tensor(data)\n",
    "print(x_data)"
   ]
  },
  {
   "cell_type": "code",
   "execution_count": 216,
   "id": "9aa3e3a3",
   "metadata": {},
   "outputs": [
    {
     "name": "stdout",
     "output_type": "stream",
     "text": [
      "tensor([[1, 2],\n",
      "        [3, 4]])\n"
     ]
    }
   ],
   "source": [
    "# A partir de um array numpy (e vice-versa)\n",
    "np_array = np.array(data)\n",
    "x_np = torch.from_numpy(np_array)\n",
    "print(x_np)"
   ]
  },
  {
   "cell_type": "code",
   "execution_count": 217,
   "id": "ab40c1db",
   "metadata": {},
   "outputs": [
    {
     "name": "stdout",
     "output_type": "stream",
     "text": [
      "Ones Tensor: \n",
      " tensor([[1, 1],\n",
      "        [1, 1]]) \n",
      "\n"
     ]
    }
   ],
   "source": [
    "# A partir de outro tensor (herdando suas propriedades)\n",
    "x_ones = torch.ones_like(x_data) # retains the properties of x_data\n",
    "print(f\"Ones Tensor: \\n {x_ones} \\n\")"
   ]
  },
  {
   "cell_type": "code",
   "execution_count": 218,
   "id": "540a49d0",
   "metadata": {},
   "outputs": [
    {
     "name": "stdout",
     "output_type": "stream",
     "text": [
      "Random Tensor: \n",
      " tensor([[0.0097, 0.5469],\n",
      "        [0.1887, 0.0164]]) \n",
      "\n"
     ]
    }
   ],
   "source": [
    "x_rand = torch.rand_like(x_data, dtype=torch.float) # overrides the datatype of x_data\n",
    "print(f\"Random Tensor: \\n {x_rand} \\n\")"
   ]
  },
  {
   "cell_type": "code",
   "execution_count": 219,
   "id": "31ec794a",
   "metadata": {},
   "outputs": [
    {
     "name": "stdout",
     "output_type": "stream",
     "text": [
      "Random Tensor: \n",
      " tensor([[0.9842, 0.1370, 0.3114],\n",
      "        [0.2692, 0.6628, 0.8179]]) \n",
      "\n",
      "Ones Tensor: \n",
      " tensor([[1., 1., 1.],\n",
      "        [1., 1., 1.]]) \n",
      "\n",
      "Zeros Tensor: \n",
      " tensor([[0., 0., 0.],\n",
      "        [0., 0., 0.]])\n"
     ]
    }
   ],
   "source": [
    "#a partir de valores aleatorios ou constantes\n",
    "shape = (2,3,)\n",
    "rand_tensor = torch.rand(shape)\n",
    "ones_tensor = torch.ones(shape)\n",
    "zeros_tensor = torch.zeros(shape)\n",
    "\n",
    "print(f\"Random Tensor: \\n {rand_tensor} \\n\")\n",
    "print(f\"Ones Tensor: \\n {ones_tensor} \\n\")\n",
    "print(f\"Zeros Tensor: \\n {zeros_tensor}\")"
   ]
  },
  {
   "cell_type": "markdown",
   "id": "08f36471",
   "metadata": {},
   "source": [
    "Podemos acessar o *shape*, *datatype* e *device* de um tensor:"
   ]
  },
  {
   "cell_type": "code",
   "execution_count": 220,
   "id": "10f34df5",
   "metadata": {},
   "outputs": [
    {
     "name": "stdout",
     "output_type": "stream",
     "text": [
      "Shape of tensor: torch.Size([3, 4])\n",
      "Datatype of tensor: torch.float32\n",
      "Device tensor is stored on: cpu\n"
     ]
    }
   ],
   "source": [
    "tensor = torch.rand(3,4)\n",
    "\n",
    "print(f\"Shape of tensor: {tensor.shape}\")\n",
    "print(f\"Datatype of tensor: {tensor.dtype}\")\n",
    "print(f\"Device tensor is stored on: {tensor.device}\")"
   ]
  },
  {
   "cell_type": "markdown",
   "id": "fd95e5cb",
   "metadata": {},
   "source": [
    "### Operações em Tensores\n",
    "\n",
    "Há mais de 1200 operações em tensores e são descritas [nesse link](https://pytorch.org/docs/stable/torch.html). \n",
    "\n",
    "Todas as operações podem ser executadas na CPU ou em algum acelerador (como CUDA). Por padrão, as operações são executadas na cpu. É necessário mover os tensores explicitamente para o acelerador disponível."
   ]
  },
  {
   "cell_type": "code",
   "execution_count": 221,
   "id": "e14e1da5",
   "metadata": {},
   "outputs": [
    {
     "name": "stdout",
     "output_type": "stream",
     "text": [
      "Tensor is now on: cuda:0\n"
     ]
    }
   ],
   "source": [
    "if torch.accelerator.is_available():\n",
    "    gpu = torch.accelerator.current_accelerator()\n",
    "    tensor = tensor.to(gpu)\n",
    "    print(f\"Tensor is now on: {tensor.device}\")"
   ]
  },
  {
   "cell_type": "code",
   "execution_count": null,
   "id": "b6ff4e98",
   "metadata": {},
   "outputs": [
    {
     "name": "stdout",
     "output_type": "stream",
     "text": [
      "First row: tensor([1., 1., 1., 1.])\n",
      "First column: tensor([1., 1., 1., 1.])\n",
      "Last column: tensor([1., 1., 1., 1.])\n",
      "tensor([[1., 0., 1., 1.],\n",
      "        [1., 0., 1., 1.],\n",
      "        [1., 0., 1., 1.],\n",
      "        [1., 0., 1., 1.]])\n"
     ]
    }
   ],
   "source": [
    "#indexing e slicing\n",
    "tensor = torch.ones(4, 4)\n",
    "print(f\"First row: {tensor[0]}\")\n",
    "print(f\"First column: {tensor[:, 0]}\")\n",
    "print(f\"Last column: {tensor[..., -1]}\")\n",
    "tensor[:,1] = 0 # Zera a segunda coluna\n",
    "print(tensor)"
   ]
  },
  {
   "cell_type": "code",
   "execution_count": 280,
   "id": "9cb11fa6",
   "metadata": {},
   "outputs": [
    {
     "name": "stdout",
     "output_type": "stream",
     "text": [
      "Shape original: torch.Size([4, 4])\n",
      "Concatenando com .cat: tensor([[1., 0., 1., 1., 1., 0., 1., 1., 1., 0., 1., 1.],\n",
      "        [1., 0., 1., 1., 1., 0., 1., 1., 1., 0., 1., 1.],\n",
      "        [1., 0., 1., 1., 1., 0., 1., 1., 1., 0., 1., 1.],\n",
      "        [1., 0., 1., 1., 1., 0., 1., 1., 1., 0., 1., 1.]])\n",
      "torch.Size([4, 12])\n",
      "Empilhando com .stack: tensor([[[1., 0., 1., 1.],\n",
      "         [1., 0., 1., 1.],\n",
      "         [1., 0., 1., 1.],\n",
      "         [1., 0., 1., 1.]],\n",
      "\n",
      "        [[1., 0., 1., 1.],\n",
      "         [1., 0., 1., 1.],\n",
      "         [1., 0., 1., 1.],\n",
      "         [1., 0., 1., 1.]],\n",
      "\n",
      "        [[1., 0., 1., 1.],\n",
      "         [1., 0., 1., 1.],\n",
      "         [1., 0., 1., 1.],\n",
      "         [1., 0., 1., 1.]]])\n",
      "torch.Size([3, 4, 4])\n"
     ]
    }
   ],
   "source": [
    "print(\"Shape original:\", tensor.shape)\n",
    "#concatenando \n",
    "t1 = torch.cat([tensor, tensor, tensor], dim=1)\n",
    "print(\"Concatenando com .cat:\",t1)\n",
    "print(t1.shape)\n",
    "\n",
    "#Empilhando\n",
    "t2 = torch.stack((tensor, tensor, tensor), dim=0)\n",
    "print(\"Empilhando com .stack:\",t2)\n",
    "print(t2.shape)"
   ]
  },
  {
   "cell_type": "code",
   "execution_count": 224,
   "id": "761b2bb7",
   "metadata": {},
   "outputs": [
    {
     "data": {
      "text/plain": [
       "tensor([[3., 3., 3., 3.],\n",
       "        [3., 3., 3., 3.],\n",
       "        [3., 3., 3., 3.],\n",
       "        [3., 3., 3., 3.]])"
      ]
     },
     "execution_count": 224,
     "metadata": {},
     "output_type": "execute_result"
    }
   ],
   "source": [
    "#Computa o produto matricial (y1, y2, y3 serão similares)\n",
    "y1 = tensor @ tensor.T #.T é a matriz transposta\n",
    "y2 = tensor.matmul(tensor.T)\n",
    "\n",
    "y3 = torch.rand_like(y1)\n",
    "torch.matmul(tensor, tensor.T, out=y3)"
   ]
  },
  {
   "cell_type": "code",
   "execution_count": 225,
   "id": "4ea6f514",
   "metadata": {},
   "outputs": [
    {
     "data": {
      "text/plain": [
       "tensor([[1., 0., 1., 1.],\n",
       "        [1., 0., 1., 1.],\n",
       "        [1., 0., 1., 1.],\n",
       "        [1., 0., 1., 1.]])"
      ]
     },
     "execution_count": 225,
     "metadata": {},
     "output_type": "execute_result"
    }
   ],
   "source": [
    "#Computa o produto elemento a elemento (z1, z2, z3 serão similares)\n",
    "z1 = tensor * tensor\n",
    "z2 = tensor.mul(tensor)\n",
    "\n",
    "z3 = torch.rand_like(tensor)\n",
    "torch.mul(tensor, tensor, out=z3)"
   ]
  },
  {
   "cell_type": "markdown",
   "id": "0b683867",
   "metadata": {},
   "source": [
    "Tensores podem compartilhar memória com numpy arrays:"
   ]
  },
  {
   "cell_type": "code",
   "execution_count": 226,
   "id": "95d2f21c",
   "metadata": {},
   "outputs": [
    {
     "name": "stdout",
     "output_type": "stream",
     "text": [
      "t: tensor([1., 1., 1., 1., 1.])\n",
      "n: [1. 1. 1. 1. 1.]\n",
      "t: tensor([2., 2., 2., 2., 2.])\n",
      "n: [2. 2. 2. 2. 2.]\n"
     ]
    }
   ],
   "source": [
    "#transformando um tensor em numpy\n",
    "t = torch.ones(5)\n",
    "print(f\"t: {t}\")\n",
    "n = t.numpy()\n",
    "print(f\"n: {n}\")\n",
    "\n",
    "# a mudança em t afeta n\n",
    "t.add_(1)\n",
    "print(f\"t: {t}\")\n",
    "print(f\"n: {n}\")"
   ]
  },
  {
   "cell_type": "markdown",
   "id": "12c526bb",
   "metadata": {},
   "source": [
    "### Tarefa\n",
    "Crie um tensor 2D de tamanho 3x3 com números inteiros de 1 a 9, depois:\n",
    "\n",
    "1. Some 10 a todos os elementos do tensor.\n",
    "2. Multiplique o tensor resultante por 2.\n",
    "3. Extraia a segunda coluna do tensor final."
   ]
  },
  {
   "cell_type": "code",
   "execution_count": 227,
   "id": "8e7fe907",
   "metadata": {},
   "outputs": [],
   "source": [
    "#seu código aqui"
   ]
  },
  {
   "cell_type": "markdown",
   "id": "3c6bbbd1",
   "metadata": {},
   "source": [
    "### resposta"
   ]
  },
  {
   "cell_type": "code",
   "execution_count": 228,
   "id": "356c3dca",
   "metadata": {},
   "outputs": [
    {
     "name": "stdout",
     "output_type": "stream",
     "text": [
      "tensor([[75, 36, 96],\n",
      "        [57, 93, 74],\n",
      "        [12, 33, 49]], dtype=torch.int32) torch.Size([3, 3])\n",
      "tensor([[ 85,  46, 106],\n",
      "        [ 67, 103,  84],\n",
      "        [ 22,  43,  59]], dtype=torch.int32)\n",
      "tensor([[170,  92, 212],\n",
      "        [134, 206, 168],\n",
      "        [ 44,  86, 118]], dtype=torch.int32)\n",
      "tensor([ 92, 206,  86], dtype=torch.int32)\n"
     ]
    }
   ],
   "source": [
    "tensor =torch.tensor([ #poderia ser assim\n",
    "    [1,2,3],\n",
    "    [4,5,6],\n",
    "    [7,8,9]\n",
    "])\n",
    "\n",
    "tensor = (torch.rand(3,3)*100).int() # ou assim\n",
    "\n",
    "# ou de qualquer forma que atenda o critério 3x3\n",
    "print(tensor, tensor.shape)\n",
    "\n",
    "tensor += 10\n",
    "print(tensor)\n",
    "\n",
    "tensor*=2\n",
    "print(tensor)\n",
    "\n",
    "print(tensor[:,1]) #seleciona a segunda coluna"
   ]
  },
  {
   "cell_type": "markdown",
   "id": "ae4b6ea3",
   "metadata": {},
   "source": [
    "## Datasets & DataLoaders"
   ]
  },
  {
   "cell_type": "markdown",
   "id": "ac5e5120",
   "metadata": {},
   "source": [
    "Para melhor legibilidade e modularidade, o PyTorch oferece duas primitivas: \n",
    "1. *torch.utils.data.Dataset*: armazena amostras e rótulos;\n",
    "2. *torch.utils.data.DataLoader*: cria um iterador sobre o Dataset para facilitar o acesso aos dados.\n",
    "\n",
    "Para ilustrar o uso das primitivas, vamos carregador o [Fashion-MNIST](https://research.zalando.com/project/fashion_mnist/fashion_mnist/), um dataset com 60.000 amostras de treino e 10.000 de teste. Cada amostra é uma imagem 28x28 em escala de cinza e um rótulo associado de um das 10 classes disponíveis. \n",
    "\n",
    "Este é um dos datasets disponíveis no Pytorch que podem ser usados para prototipagem ou benchmarks. "
   ]
  },
  {
   "cell_type": "code",
   "execution_count": 251,
   "id": "66f99daa",
   "metadata": {},
   "outputs": [],
   "source": [
    "from torch.utils.data import Dataset\n",
    "from torchvision import datasets \n",
    "from torchvision.transforms import ToTensor\n",
    "import matplotlib.pyplot as plt\n",
    "\n",
    "# datasets.FashionMNIST é uma classe derivada do torch.utils.data.Dataset\n",
    "training_data = datasets.FashionMNIST(\n",
    "    root=\"data\", #caminho em que o dataset está / será armazenado\n",
    "    train=True, #especifica se é treino ou teste\n",
    "    download=True, #baixa o dado, se ele já não estiver no caminho em 'root'\n",
    "    transform=ToTensor() #transformação nas features / labels \n",
    ")\n",
    "\n",
    "test_data = datasets.FashionMNIST(\n",
    "    root=\"data\",\n",
    "    train=False,\n",
    "    download=True,\n",
    "    transform=ToTensor()\n",
    ")"
   ]
  },
  {
   "cell_type": "code",
   "execution_count": 230,
   "id": "af3327db",
   "metadata": {},
   "outputs": [
    {
     "data": {
      "image/png": "[encoded data removed]",
      "text/plain": [
       "<Figure size 800x800 with 9 Axes>"
      ]
     },
     "metadata": {},
     "output_type": "display_data"
    }
   ],
   "source": [
    "labels_map = {\n",
    "    0: \"T-Shirt\",\n",
    "    1: \"Trouser\",\n",
    "    2: \"Pullover\",\n",
    "    3: \"Dress\",\n",
    "    4: \"Coat\",\n",
    "    5: \"Sandal\",\n",
    "    6: \"Shirt\",\n",
    "    7: \"Sneaker\",\n",
    "    8: \"Bag\",\n",
    "    9: \"Ankle Boot\",\n",
    "}\n",
    "\n",
    "figure = plt.figure(figsize=(8, 8))\n",
    "cols, rows = 3, 3\n",
    "for i in range(1, cols * rows + 1):\n",
    "    sample_idx = torch.randint(len(training_data), size=(1,)).item()\n",
    "    img, label = training_data[sample_idx]\n",
    "    figure.add_subplot(rows, cols, i)\n",
    "    plt.title(labels_map[label])\n",
    "    plt.axis(\"off\")\n",
    "    plt.imshow(img.squeeze(), cmap=\"gray\")\n",
    "plt.show()"
   ]
  },
  {
   "cell_type": "markdown",
   "id": "d89b1496",
   "metadata": {},
   "source": [
    "### Criando um dataset personalizado"
   ]
  },
  {
   "cell_type": "markdown",
   "id": "05e2a2b7",
   "metadata": {},
   "source": [
    "Uma classe Dataset personalizada precisa implementar três funções: `__init__`, `__len__` e `__getitem__`.\n",
    "\n",
    "No exemplo, as imagens do FashionMNIST ficam na pasta `img\\_dir`, enquanto os rótulos estão em um arquivo CSV chamado `annotations\\_file`.\n"
   ]
  },
  {
   "cell_type": "code",
   "execution_count": null,
   "id": "5f1844d6",
   "metadata": {},
   "outputs": [],
   "source": [
    "import os\n",
    "import pandas as pd\n",
    "from torchvision.io import decode_image\n",
    "\n",
    "class CustomImageDataset(Dataset):\n",
    "    #inicializa o dataset\n",
    "    def __init__(self, annotations_file, img_dir, transform=None, target_transform=None):\n",
    "        self.img_labels = pd.read_csv(annotations_file)\n",
    "        self.img_dir = img_dir\n",
    "        self.transform = transform\n",
    "        self.target_transform = target_transform\n",
    "\n",
    "    #retorna o numero de amostras no dataset\n",
    "    def __len__(self):\n",
    "        return len(self.img_labels)\n",
    "\n",
    "    #retorna uma amostra do dataset, dado o índice\n",
    "    def __getitem__(self, idx):\n",
    "        img_path = os.path.join(self.img_dir, self.img_labels.iloc[idx, 0])\n",
    "        image = decode_image(img_path)\n",
    "        label = self.img_labels.iloc[idx, 1]\n",
    "        if self.transform:\n",
    "            image = self.transform(image)\n",
    "        if self.target_transform:\n",
    "            label = self.target_transform(label)\n",
    "        return image, label"
   ]
  },
  {
   "cell_type": "markdown",
   "id": "8966cc07",
   "metadata": {},
   "source": [
    "### DataLoader\n",
    "\n",
    "O `Dataset` acessa as features e rótulos do conjunto de dados uma amostra por vez.\n",
    "\n",
    "Durante o treino, geralmente enviamos os dados em *minibatches*, embaralhamos a cada época para reduzir *overfitting* e usamos *multiprocessing* para acelerar a leitura.\n",
    "\n",
    "O `DataLoader` simplifica tudo isso, oferecendo uma API prática para lidar com essas tarefas automaticamente.\n"
   ]
  },
  {
   "cell_type": "code",
   "execution_count": 252,
   "id": "505ab824",
   "metadata": {},
   "outputs": [],
   "source": [
    "from torch.utils.data import DataLoader\n",
    "\n",
    "train_dataloader = DataLoader(training_data, batch_size=64, shuffle=True)\n",
    "test_dataloader = DataLoader(test_data, batch_size=64, shuffle=True)"
   ]
  },
  {
   "cell_type": "markdown",
   "id": "f6bf0327",
   "metadata": {},
   "source": [
    "Carregamos o dataset no `DataLoader** e podemos percorrê-lo conforme necessário.\n",
    "\n",
    "Cada iteração retorna um lote de **train\\_features** e **train\\_labels** (com `batch_size=64` para cada um).\n",
    "\n",
    "Como usamos `shuffle=True`, ao final de todas as iterações os dados são embaralhados novamente. Para mais controle sobre a ordem de carregamento, é possível usar [Samplers](https://docs.pytorch.org/docs/stable/data.html#data-loading-order-and-sampler).\n"
   ]
  },
  {
   "cell_type": "code",
   "execution_count": 235,
   "id": "c7981c58",
   "metadata": {},
   "outputs": [
    {
     "name": "stdout",
     "output_type": "stream",
     "text": [
      "Feature batch shape: torch.Size([64, 1, 28, 28])\n",
      "Labels batch shape: torch.Size([64])\n"
     ]
    },
    {
     "data": {
      "image/png": "[encoded data removed]",
      "text/plain": [
       "<Figure size 640x480 with 1 Axes>"
      ]
     },
     "metadata": {},
     "output_type": "display_data"
    },
    {
     "name": "stdout",
     "output_type": "stream",
     "text": [
      "Label: 3\n"
     ]
    }
   ],
   "source": [
    "train_features, train_labels = next(iter(train_dataloader))\n",
    "print(f\"Feature batch shape: {train_features.size()}\")\n",
    "print(f\"Labels batch shape: {train_labels.size()}\")\n",
    "\n",
    "img = train_features[0].squeeze()\n",
    "label = train_labels[0]\n",
    "plt.imshow(img, cmap=\"gray\")\n",
    "plt.show()\n",
    "print(f\"Label: {label}\")"
   ]
  },
  {
   "cell_type": "markdown",
   "id": "d5c5924d",
   "metadata": {},
   "source": [
    "### Transformações\n",
    "\n",
    "Os dados nem sempre chegam prontos para serem usados no treino. Por isso, usamos **transforms**, que aplicam manipulações nos dados para deixá-los adequados ao treinamento.\n",
    "\n",
    "Nos datasets do TorchVision, há dois parâmetros:\n",
    "\n",
    "* **transform**: modifica as *features*\n",
    "* **target\\_transform**: modifica os rótulos\n",
    "\n",
    "Ambos recebem funções (*callables*) com a lógica de transformação. O módulo `torchvision.transforms` já oferece diversas transformações prontas.\n",
    "\n",
    "No caso do FashionMNIST, as *features* estão em formato **PIL Image** e os rótulos são inteiros. Para treinar, precisamos das *features* como tensores normalizados e dos rótulos em formato *one-hot encoded*. Para isso, usamos **ToTensor** e **Lambda**."
   ]
  },
  {
   "cell_type": "code",
   "execution_count": 236,
   "id": "ad32d93c",
   "metadata": {},
   "outputs": [],
   "source": [
    "import torch\n",
    "from torchvision import datasets\n",
    "from torchvision.transforms import ToTensor, Lambda\n",
    "\n",
    "ds = datasets.FashionMNIST(\n",
    "    root=\"data\",\n",
    "    train=True,\n",
    "    download=True,\n",
    "    transform=ToTensor(), #converte uma imagem PIL ou ndarray para um FloatTensor e escala para [0, 1]\n",
    "    target_transform=Lambda(lambda y: torch.zeros(10, dtype=torch.float).scatter_(0, torch.tensor(y), value=1))\n",
    ")"
   ]
  },
  {
   "cell_type": "markdown",
   "id": "d8729e9f",
   "metadata": {},
   "source": [
    "Podemos aplicar várias transformações aos dados. Em algumas aplicações, por exemplo, é comum realizar cortes, redimensionamentos, rotações e normalizações. Essas transformações podem ser combinadas usando **`Compose`**, como no exemplo abaixo.\n"
   ]
  },
  {
   "cell_type": "code",
   "execution_count": 237,
   "id": "33535232",
   "metadata": {},
   "outputs": [
    {
     "name": "stderr",
     "output_type": "stream",
     "text": [
      "Clipping input data to the valid range for imshow with RGB data ([0..1] for floats or [0..255] for integers). Got range [-2.0836544..2.5877128].\n"
     ]
    },
    {
     "data": {
      "image/png": "[encoded data removed]",
      "text/plain": [
       "<Figure size 640x480 with 2 Axes>"
      ]
     },
     "metadata": {},
     "output_type": "display_data"
    }
   ],
   "source": [
    "from torchvision.transforms import v2\n",
    "\n",
    "H, W = 32, 32\n",
    "img = torch.randint(0, 256, size=(3, H, W), dtype=torch.uint8)\n",
    "\n",
    "transforms = v2.Compose([\n",
    "    v2.RandomResizedCrop(size=(224, 224), antialias=True),\n",
    "    v2.RandomHorizontalFlip(p=0.5),\n",
    "    v2.ToDtype(torch.float32, scale=True),\n",
    "    v2.Normalize(mean=[0.485, 0.456, 0.406], std=[0.229, 0.224, 0.225]),\n",
    "])\n",
    "\n",
    "timg = transforms(img)\n",
    "\n",
    "fig, axs = plt.subplots(1,2)\n",
    "axs[0].imshow(img.permute(1, 2, 0))\n",
    "axs[0].set_title(\"Original Image\")\n",
    "axs[0].axis(\"off\")\n",
    "axs[1].imshow(timg.permute(1, 2, 0))\n",
    "axs[1].set_title(\"Transformed Image\")\n",
    "axs[1].axis(\"off\")\n",
    "plt.show()"
   ]
  },
  {
   "cell_type": "markdown",
   "id": "729b8c02",
   "metadata": {},
   "source": [
    "### Tarefa\n",
    "\n",
    "1. Crie uma classe `SquaredDataset` que:\n",
    "\n",
    "   * Gera tensores com números aleatórios de 0 a 10\n",
    "   * No método `__getitem__`, retorne um tensor único empilhados:\n",
    "\n",
    "     * O número original transformado em tensor.\n",
    "     * O quadrado desse número (também tensor).\n",
    "\n",
    "2. Instancie o dataset;\n",
    "\n",
    "3. Use um DataLoader com `batch_size=5` e `shuffle=True`.\n",
    "\n",
    "4. Verifique se sua função está correta printando o primeiro batch: `next(iter(dataloader))`\n",
    "\n",
    "Experimente `shuffle=False` em outra célula e veja que o valor do primeiro batch nunca muda. "
   ]
  },
  {
   "cell_type": "code",
   "execution_count": null,
   "id": "9577d61f",
   "metadata": {},
   "outputs": [],
   "source": [
    "# seu código\n",
    "dataloader = #seu código \n",
    "next(iter(dataloader))"
   ]
  },
  {
   "cell_type": "markdown",
   "id": "6442913e",
   "metadata": {},
   "source": [
    "### resposta \n"
   ]
  },
  {
   "cell_type": "code",
   "execution_count": null,
   "id": "86f798ff",
   "metadata": {},
   "outputs": [],
   "source": [
    "class SquaredDataset(Dataset):\n",
    "    def __init__(self, size=20):\n",
    "        # Gera tensores aleatórios entre 0 e 1, multiplica por 100 e converte para inteiro\n",
    "        self.numbers = (torch.rand(size) * 100).int()\n",
    "\n",
    "    def __len__(self):\n",
    "        return len(self.numbers)\n",
    "\n",
    "    def __getitem__(self, idx):\n",
    "        num = self.numbers[idx]\n",
    "        squared = num ** 2 \n",
    "        return torch.stack([num, squared], dim=0)\n",
    "\n",
    "dataset = SquaredDataset()\n",
    "dataloader = DataLoader(dataset, batch_size=5, shuffle=True)\n",
    "\n",
    "next(iter(dataloader))"
   ]
  },
  {
   "cell_type": "markdown",
   "id": "fd100c81",
   "metadata": {},
   "source": [
    "<!-- #resposta \n",
    "\n",
    "class SquaredDataset(Dataset):\n",
    "    def __init__(self, size=20):\n",
    "        # Gera tensores aleatórios entre 0 e 1, multiplica por 100 e converte para inteiro\n",
    "        self.numbers = (torch.rand(size) * 100).int()\n",
    "\n",
    "    def __len__(self):\n",
    "        return len(self.numbers)\n",
    "\n",
    "    def __getitem__(self, idx):\n",
    "        num = self.numbers[idx]\n",
    "        squared = num ** 2 \n",
    "        return torch.stack([num, squared], dim=0)\n",
    "\n",
    "# Instancia o dataset\n",
    "dataset = SquaredDataset()\n",
    "\n",
    "# DataLoader com batch_size=5 e shuffle=True\n",
    "dataloader = DataLoader(dataset, batch_size=5, shuffle=True)\n",
    "\n",
    "next(iter(dataloader)) -->"
   ]
  },
  {
   "cell_type": "markdown",
   "id": "1acca1e9",
   "metadata": {},
   "source": [
    "## Criando uma Rede Neural"
   ]
  },
  {
   "cell_type": "markdown",
   "id": "b9e81534",
   "metadata": {},
   "source": [
    "O namespace **torch.nn** oferece todos os componentes necessários para construir sua própria rede neural.\n",
    "\n",
    "Todo módulo no PyTorch herda de **nn.Module**. Uma rede neural é um módulo que contém outros módulos (camadas).\n",
    "\n",
    "Essa estrutura facilita a criação e o gerenciamento de arquiteturas complexas."
   ]
  },
  {
   "cell_type": "code",
   "execution_count": 238,
   "id": "b27baed3",
   "metadata": {},
   "outputs": [],
   "source": [
    "import os\n",
    "import torch\n",
    "from torch import nn\n",
    "from torch.utils.data import DataLoader\n",
    "from torchvision import datasets, transforms"
   ]
  },
  {
   "cell_type": "markdown",
   "id": "fed746ec",
   "metadata": {},
   "source": [
    "Verifica se algum acelerador (CUDA, MPS, MTIA, or XPU) está disponível, se não, usa a CPU:"
   ]
  },
  {
   "cell_type": "code",
   "execution_count": 239,
   "id": "2e73049f",
   "metadata": {},
   "outputs": [
    {
     "name": "stdout",
     "output_type": "stream",
     "text": [
      "Using cuda device\n"
     ]
    }
   ],
   "source": [
    "device = torch.accelerator.current_accelerator().type if torch.accelerator.is_available() else \"cpu\"\n",
    "print(f\"Using {device} device\")"
   ]
  },
  {
   "cell_type": "markdown",
   "id": "2069624d",
   "metadata": {},
   "source": [
    "Definimos nossa rede neural criando uma subclasse de **nn.Module** e inicializamos as camadas no método ****init****.\n",
    "\n",
    "Toda subclasse de **nn.Module** implementa as operações sobre os dados de entrada no método **forward**."
   ]
  },
  {
   "cell_type": "code",
   "execution_count": null,
   "id": "38f553d2",
   "metadata": {},
   "outputs": [],
   "source": [
    "class NeuralNetwork(nn.Module):\n",
    "    def __init__(self):\n",
    "        super().__init__()\n",
    "        \n",
    "        self.flatten = nn.Flatten() #converte a imagem 28x28 em um vetor de 784 elementos\n",
    "        self.linear_relu_stack = nn.Sequential(\n",
    "            nn.Linear(28*28, 512), #aplica uma transformacao linear usando os pesos e bias armazenados\n",
    "            nn.ReLU(), #ativação não-linear\n",
    "            nn.Linear(512, 512),\n",
    "            nn.ReLU(),\n",
    "            nn.Linear(512, 10),\n",
    "        )\n",
    "\n",
    "    def forward(self, x):\n",
    "        x = self.flatten(x)\n",
    "        logits = self.linear_relu_stack(x)\n",
    "        return logits"
   ]
  },
  {
   "cell_type": "markdown",
   "id": "2c56b81b",
   "metadata": {},
   "source": [
    "No exemplo, usamos `nn.Linear` para criar a função linear e `nn.ReLu`, mas existem vários outros módulos que podemos usar. Alguns exemplos:\n",
    "1. Convolução 2D  `nn.Conv2d`\n",
    "2. Max Pooling: `nn.MaxPool2d`\n",
    "\n",
    "Veja todos os módulos disponíveis [aqui](https://docs.pytorch.org/docs/stable/nn.html)"
   ]
  },
  {
   "cell_type": "markdown",
   "id": "b33f8f8e",
   "metadata": {},
   "source": [
    "Criamos um instancia e movemos para GPU. Depois, printamos a estrutura da rede:"
   ]
  },
  {
   "cell_type": "code",
   "execution_count": 241,
   "id": "a1285edb",
   "metadata": {},
   "outputs": [
    {
     "name": "stdout",
     "output_type": "stream",
     "text": [
      "NeuralNetwork(\n",
      "  (flatten): Flatten(start_dim=1, end_dim=-1)\n",
      "  (linear_relu_stack): Sequential(\n",
      "    (0): Linear(in_features=784, out_features=512, bias=True)\n",
      "    (1): ReLU()\n",
      "    (2): Linear(in_features=512, out_features=512, bias=True)\n",
      "    (3): ReLU()\n",
      "    (4): Linear(in_features=512, out_features=10, bias=True)\n",
      "  )\n",
      ")\n"
     ]
    }
   ],
   "source": [
    "model = NeuralNetwork().to(device)\n",
    "print(model)"
   ]
  },
  {
   "cell_type": "markdown",
   "id": "a2c5e081",
   "metadata": {},
   "source": [
    "Para usar o modelo, passamos os dados de entrada a ele. Isso executa o método **forward**, junto com algumas operações internas. **Não chamamos model.forward() diretamente.**\n",
    "\n",
    "Ao chamar o modelo com os dados, ele retorna um tensor 2D:\n",
    "\n",
    "* dimensão 0 corresponde a cada saída do batch (exemplo: cada amostra)\n",
    "* dimensão 1 contém os 10 valores brutos previstos para cada classe.\n",
    "\n",
    "Para obter as probabilidades das previsões, aplicamos o tensor a uma instância do módulo **nn.Softmax**."
   ]
  },
  {
   "cell_type": "code",
   "execution_count": 242,
   "id": "c12c8d90",
   "metadata": {},
   "outputs": [
    {
     "name": "stdout",
     "output_type": "stream",
     "text": [
      "Probabilidades % tensor([[10.4998, 10.0831,  9.8365,  9.9621,  9.2279,  8.8084, 11.2137,  9.6505,\n",
      "          9.1481, 11.5700]], device='cuda:0', grad_fn=<MulBackward0>)\n",
      "Predicted class: tensor([9], device='cuda:0')\n"
     ]
    }
   ],
   "source": [
    "X = torch.rand(1, 28, 28, device=device) #dados \n",
    "\n",
    "logits = model(X) #logits\n",
    "pred_probab = nn.Softmax(dim=1)(logits) #probabilidades\n",
    "print(\"Probabilidades %\",pred_probab*100)\n",
    "\n",
    "y_pred = pred_probab.argmax(1) #classe prevista\n",
    "print(f\"Predicted class: {y_pred}\")"
   ]
  },
  {
   "cell_type": "markdown",
   "id": "51c3261a",
   "metadata": {},
   "source": [
    "Parâmetros do modelo:"
   ]
  },
  {
   "cell_type": "code",
   "execution_count": 243,
   "id": "138b97d5",
   "metadata": {},
   "outputs": [
    {
     "name": "stdout",
     "output_type": "stream",
     "text": [
      "Model structure: NeuralNetwork(\n",
      "  (flatten): Flatten(start_dim=1, end_dim=-1)\n",
      "  (linear_relu_stack): Sequential(\n",
      "    (0): Linear(in_features=784, out_features=512, bias=True)\n",
      "    (1): ReLU()\n",
      "    (2): Linear(in_features=512, out_features=512, bias=True)\n",
      "    (3): ReLU()\n",
      "    (4): Linear(in_features=512, out_features=10, bias=True)\n",
      "  )\n",
      ")\n",
      "\n",
      "\n",
      "Layer: linear_relu_stack.0.weight | Size: torch.Size([512, 784]) | Values : tensor([[-0.0306,  0.0357,  0.0050,  ..., -0.0127, -0.0172, -0.0095],\n",
      "        [ 0.0297,  0.0244, -0.0145,  ...,  0.0269,  0.0139,  0.0247]],\n",
      "       device='cuda:0', grad_fn=<SliceBackward0>) \n",
      "\n",
      "Layer: linear_relu_stack.0.bias | Size: torch.Size([512]) | Values : tensor([-0.0018, -0.0004], device='cuda:0', grad_fn=<SliceBackward0>) \n",
      "\n",
      "Layer: linear_relu_stack.2.weight | Size: torch.Size([512, 512]) | Values : tensor([[ 0.0213,  0.0382, -0.0063,  ..., -0.0421, -0.0121, -0.0020],\n",
      "        [-0.0239, -0.0347,  0.0159,  ..., -0.0207,  0.0245,  0.0099]],\n",
      "       device='cuda:0', grad_fn=<SliceBackward0>) \n",
      "\n",
      "Layer: linear_relu_stack.2.bias | Size: torch.Size([512]) | Values : tensor([-0.0137, -0.0012], device='cuda:0', grad_fn=<SliceBackward0>) \n",
      "\n",
      "Layer: linear_relu_stack.4.weight | Size: torch.Size([10, 512]) | Values : tensor([[ 0.0331,  0.0381, -0.0220,  ...,  0.0103,  0.0037, -0.0430],\n",
      "        [-0.0084,  0.0114,  0.0231,  ...,  0.0403, -0.0128,  0.0038]],\n",
      "       device='cuda:0', grad_fn=<SliceBackward0>) \n",
      "\n",
      "Layer: linear_relu_stack.4.bias | Size: torch.Size([10]) | Values : tensor([-0.0047, -0.0250], device='cuda:0', grad_fn=<SliceBackward0>) \n",
      "\n"
     ]
    }
   ],
   "source": [
    "print(f\"Model structure: {model}\\n\\n\")\n",
    "\n",
    "for name, param in model.named_parameters():\n",
    "    print(f\"Layer: {name} | Size: {param.size()} | Values : {param[:2]} \\n\")"
   ]
  },
  {
   "cell_type": "markdown",
   "id": "60c4eaa1",
   "metadata": {},
   "source": [
    "Agora, precisamos treinar o modelo ou otimizar os parâmetros no dataset.\n",
    "\n",
    "O treinamento de um modelo é um processo iterativo; em cada iteração, o modelo faz uma previsão, calcula o erro dessa previsão (loss), coleta os gradientes do erro em relação aos seus parâmetros (como vimos na seção anterior) e otimiza esses parâmetros usando o gradiente descendente."
   ]
  },
  {
   "cell_type": "markdown",
   "id": "49d8466a",
   "metadata": {},
   "source": [
    "### Hiperparâmetros  \n",
    "Definimos os seguintes hiperparâmetros para o treinamento:\n",
    "\n",
    "* **Número de Épocas**: quantas vezes o modelo vai passar por todo o conjunto de dados.\n",
    "* **Tamanho do Batch**: quantidade de amostras processadas antes da atualização dos parâmetros.\n",
    "* **Taxa de Aprendizado (Learning Rate)**: o quanto os parâmetros do modelo são ajustados a cada batch/época. Valores pequenos resultam em aprendizado lento; valores grandes podem causar comportamento instável durante o treino.\n"
   ]
  },
  {
   "cell_type": "code",
   "execution_count": 253,
   "id": "ad1fbcaa",
   "metadata": {},
   "outputs": [],
   "source": [
    "learning_rate = 1e-3\n",
    "batch_size = 64\n",
    "epochs = 5"
   ]
  },
  {
   "cell_type": "markdown",
   "id": "e8665746",
   "metadata": {},
   "source": [
    "Quando apresentado a dados de treino, nosso modelo ainda não treinado provavelmente não dará a resposta correta. A função de perda mede o quanto o resultado obtido difere do valor esperado, e é essa função que queremos minimizar durante o treinamento.\n",
    "\n",
    "Para calcular a perda, fazemos uma previsão com os dados de entrada e comparamos com o rótulo verdadeiro.\n",
    "\n",
    "Funções de perda comuns são:\n",
    "\n",
    "* `nn.MSELoss` (Erro Quadrático Médio) para tarefas de regressão.\n",
    "* `nn.NLLLoss` (Log-Verossimilhança Negativa) para classificação.\n",
    "* `nn.CrossEntropyLoss`, que combina `LogSoftmax` e `NLLLoss`.\n",
    "\n",
    "Passamos os logits de saída do modelo para `nn.CrossEntropyLoss`, que normaliza esses valores e calcula o erro da previsão.\n"
   ]
  },
  {
   "cell_type": "code",
   "execution_count": 245,
   "id": "6e6918f7",
   "metadata": {},
   "outputs": [],
   "source": [
    "loss_fn = nn.CrossEntropyLoss()"
   ]
  },
  {
   "cell_type": "markdown",
   "id": "d61c523e",
   "metadata": {},
   "source": [
    "Alternativamente, podemos definir nossa própria função de loss:"
   ]
  },
  {
   "cell_type": "code",
   "execution_count": 246,
   "id": "9a6a236e",
   "metadata": {},
   "outputs": [],
   "source": [
    "def myCrossEntropyLoss(outputs, labels):\n",
    "    batch_size = outputs.size()[0]            # tamanho do batch\n",
    "    outputs = nn.functional.log_softmax(outputs, dim=1)   # calcula o log dos valores softmax\n",
    "    outputs = outputs[range(batch_size), labels] # seleciona os valores correspondentes aos rótulos\n",
    "    return -torch.sum(outputs)/batch_size #retorna "
   ]
  },
  {
   "cell_type": "markdown",
   "id": "ae7d677f",
   "metadata": {},
   "source": [
    "### Otimizador\n",
    "\n",
    "Otimização é o processo de ajustar os parâmetros do modelo para reduzir o erro a cada passo do treinamento. Os algoritmos de otimização definem como isso é feito (neste exemplo, usamos o Gradiente Descendente Estocástico — SGD).\n",
    "\n",
    "Toda a lógica de otimização fica dentro do objeto **optimizer**. Aqui usamos o otimizador **SGD**, mas o PyTorch oferece vários outros, como **Adam** e **RMSProp**, que podem ser mais eficazes dependendo do modelo e dos dados.\n",
    "\n",
    "Inicializamos o otimizador registrando os parâmetros do modelo que serão treinados e definindo a taxa de aprendizado (learning rate).\n"
   ]
  },
  {
   "cell_type": "code",
   "execution_count": 247,
   "id": "ec587d0a",
   "metadata": {},
   "outputs": [],
   "source": [
    "optimizer = torch.optim.SGD(model.parameters(), lr=learning_rate)"
   ]
  },
  {
   "cell_type": "markdown",
   "id": "549b3864",
   "metadata": {},
   "source": [
    "Dentro do loop de treinamento, a otimização ocorre em três etapas:\n",
    "\n",
    "1. Chame **optimizer.zero\\_grad()** para zerar os gradientes dos parâmetros do modelo. Por padrão, os gradientes são acumulados; para evitar contagem dupla, zeramos explicitamente a cada iteração.\n",
    "\n",
    "2. Faça a retropropagação da perda com **loss.backward()**. O PyTorch calcula e armazena os gradientes da perda em relação a cada parâmetro.\n",
    "\n",
    "3. Com os gradientes calculados, chame **optimizer.step()** para atualizar os parâmetros conforme os gradientes obtidos.\n"
   ]
  },
  {
   "cell_type": "markdown",
   "id": "dfc106d9",
   "metadata": {},
   "source": [
    "### Loop de Treinamento"
   ]
  },
  {
   "cell_type": "code",
   "execution_count": null,
   "id": "74857906",
   "metadata": {},
   "outputs": [],
   "source": [
    "def loop_treino(dataloader, modelo, loss_fc, otimizador):\n",
    "    tamanho = len(dataloader.dataset)\n",
    "    # Define o modelo para modo de treino - importante para batch normalization e dropout\n",
    "    # Não obrigatório aqui, mas usado como boa prática\n",
    "    modelo.train()\n",
    "    for batch, (X, y) in enumerate(dataloader):\n",
    "        X, y = X.to(device), y.to(device)\n",
    "        # Calcula a previsão e a perda\n",
    "        pred = modelo(X)\n",
    "        loss = loss_fc(pred, y)\n",
    "\n",
    "        # Retropropagação\n",
    "        loss.backward()\n",
    "        otimizador.step()\n",
    "        otimizador.zero_grad()\n",
    "\n",
    "        if batch % 100 == 0:\n",
    "            loss_val, atual = loss.item(), batch * batch_size + len(X)\n",
    "            print(f\"loss: {loss_val:>7f}  [{atual:>5d}/{tamanho:>5d}]\")\n",
    "\n",
    "\n",
    "def loop_teste(dataloader, modelo, loss_fc):\n",
    "    # Define o modelo para modo avaliação - importante para batch normalization e dropout\n",
    "    # Não obrigatório aqui, mas usado como boa prática\n",
    "    modelo.eval()\n",
    "    tamanho = len(dataloader.dataset)\n",
    "    num_batches = len(dataloader)\n",
    "    loss_test, acertos = 0, 0\n",
    "\n",
    "    # Avaliar o modelo com torch.no_grad() evita cálculo de gradientes na fase de teste,\n",
    "    # reduzindo uso desnecessário de memória e processamento\n",
    "    with torch.no_grad():\n",
    "        for X, y in dataloader:\n",
    "            X, y = X.to(device), y.to(device)\n",
    "            pred = modelo(X)\n",
    "            loss_test += loss_fc(pred, y).item()\n",
    "            acertos += (pred.argmax(1) == y).type(torch.float).sum().item()\n",
    "\n",
    "    loss_test /= num_batches\n",
    "    acertos /= tamanho\n",
    "    print(f\"Erro no Teste: \\n Acurácia: {(100*acertos):>0.1f}%, Perda média: {loss_test:>8f} \\n\")\n"
   ]
  },
  {
   "cell_type": "code",
   "execution_count": null,
   "id": "1b9b7d35",
   "metadata": {},
   "outputs": [
    {
     "name": "stdout",
     "output_type": "stream",
     "text": [
      "Epoch 1\n",
      "-------------------------------\n",
      "loss: 2.173018  [   64/60000]\n",
      "loss: 2.126780  [ 6464/60000]\n",
      "loss: 2.087217  [12864/60000]\n",
      "loss: 2.115095  [19264/60000]\n",
      "loss: 2.068045  [25664/60000]\n",
      "loss: 2.040228  [32064/60000]\n",
      "loss: 2.047438  [38464/60000]\n",
      "loss: 2.034464  [44864/60000]\n",
      "loss: 1.927667  [51264/60000]\n",
      "loss: 1.899739  [57664/60000]\n",
      "Erro no Teste: \n",
      " Acurácia: 57.4%, Perda média: 1.904674 \n",
      "\n",
      "Epoch 2\n",
      "-------------------------------\n",
      "loss: 1.904340  [   64/60000]\n",
      "loss: 1.851846  [ 6464/60000]\n",
      "loss: 1.792155  [12864/60000]\n",
      "loss: 1.791479  [19264/60000]\n",
      "loss: 1.860242  [25664/60000]\n",
      "loss: 1.700206  [32064/60000]\n",
      "loss: 1.641560  [38464/60000]\n",
      "loss: 1.529779  [44864/60000]\n",
      "loss: 1.680408  [51264/60000]\n",
      "loss: 1.563423  [57664/60000]\n",
      "Erro no Teste: \n",
      " Acurácia: 61.3%, Perda média: 1.538944 \n",
      "\n",
      "Epoch 3\n",
      "-------------------------------\n",
      "loss: 1.573304  [   64/60000]\n",
      "loss: 1.407241  [ 6464/60000]\n",
      "loss: 1.521428  [12864/60000]\n",
      "loss: 1.437088  [19264/60000]\n",
      "loss: 1.357823  [25664/60000]\n",
      "loss: 1.488830  [32064/60000]\n",
      "loss: 1.361348  [38464/60000]\n",
      "loss: 1.389004  [44864/60000]\n",
      "loss: 1.230350  [51264/60000]\n",
      "loss: 1.177747  [57664/60000]\n",
      "Erro no Teste: \n",
      " Acurácia: 63.6%, Perda média: 1.264775 \n",
      "\n",
      "Epoch 4\n",
      "-------------------------------\n",
      "loss: 1.258243  [   64/60000]\n",
      "loss: 1.236686  [ 6464/60000]\n",
      "loss: 1.344535  [12864/60000]\n",
      "loss: 1.185544  [19264/60000]\n",
      "loss: 1.096872  [25664/60000]\n",
      "loss: 1.112706  [32064/60000]\n",
      "loss: 1.173963  [38464/60000]\n",
      "loss: 1.128258  [44864/60000]\n",
      "loss: 1.081394  [51264/60000]\n",
      "loss: 1.185514  [57664/60000]\n",
      "Erro no Teste: \n",
      " Acurácia: 64.3%, Perda média: 1.095284 \n",
      "\n",
      "Epoch 5\n",
      "-------------------------------\n",
      "loss: 1.001538  [   64/60000]\n",
      "loss: 1.030356  [ 6464/60000]\n",
      "loss: 0.862347  [12864/60000]\n",
      "loss: 1.048888  [19264/60000]\n",
      "loss: 1.076370  [25664/60000]\n",
      "loss: 1.033252  [32064/60000]\n",
      "loss: 1.101261  [38464/60000]\n",
      "loss: 1.066037  [44864/60000]\n",
      "loss: 0.937917  [51264/60000]\n",
      "loss: 1.037902  [57664/60000]\n",
      "Erro no Teste: \n",
      " Acurácia: 65.7%, Perda média: 0.985721 \n",
      "\n",
      "Epoch 6\n",
      "-------------------------------\n",
      "loss: 0.949663  [   64/60000]\n",
      "loss: 0.877383  [ 6464/60000]\n",
      "loss: 0.883151  [12864/60000]\n",
      "loss: 0.811716  [19264/60000]\n",
      "loss: 0.982692  [25664/60000]\n",
      "loss: 1.162372  [32064/60000]\n",
      "loss: 1.019272  [38464/60000]\n",
      "loss: 0.735802  [44864/60000]\n",
      "loss: 1.024024  [51264/60000]\n",
      "loss: 0.852382  [57664/60000]\n",
      "Erro no Teste: \n",
      " Acurácia: 66.7%, Perda média: 0.913466 \n",
      "\n",
      "Epoch 7\n",
      "-------------------------------\n",
      "loss: 0.806402  [   64/60000]\n",
      "loss: 0.825307  [ 6464/60000]\n",
      "loss: 0.852371  [12864/60000]\n",
      "loss: 0.956784  [19264/60000]\n",
      "loss: 0.842378  [25664/60000]\n",
      "loss: 0.907918  [32064/60000]\n",
      "loss: 0.836224  [38464/60000]\n",
      "loss: 0.914748  [44864/60000]\n",
      "loss: 0.766030  [51264/60000]\n",
      "loss: 0.845037  [57664/60000]\n",
      "Erro no Teste: \n",
      " Acurácia: 68.0%, Perda média: 0.859326 \n",
      "\n",
      "Epoch 8\n",
      "-------------------------------\n",
      "loss: 1.006967  [   64/60000]\n",
      "loss: 0.924921  [ 6464/60000]\n",
      "loss: 0.756427  [12864/60000]\n",
      "loss: 0.783784  [19264/60000]\n",
      "loss: 0.654380  [25664/60000]\n",
      "loss: 0.698774  [32064/60000]\n",
      "loss: 0.859393  [38464/60000]\n",
      "loss: 0.894646  [44864/60000]\n",
      "loss: 0.687048  [51264/60000]\n",
      "loss: 0.921929  [57664/60000]\n",
      "Erro no Teste: \n",
      " Acurácia: 69.4%, Perda média: 0.818580 \n",
      "\n",
      "Epoch 9\n",
      "-------------------------------\n",
      "loss: 0.840486  [   64/60000]\n",
      "loss: 0.951971  [ 6464/60000]\n",
      "loss: 0.725674  [12864/60000]\n",
      "loss: 0.854530  [19264/60000]\n",
      "loss: 0.813238  [25664/60000]\n",
      "loss: 0.783658  [32064/60000]\n",
      "loss: 0.746978  [38464/60000]\n",
      "loss: 0.617288  [44864/60000]\n",
      "loss: 0.723174  [51264/60000]\n",
      "loss: 0.713292  [57664/60000]\n",
      "Erro no Teste: \n",
      " Acurácia: 70.6%, Perda média: 0.787750 \n",
      "\n",
      "Epoch 10\n",
      "-------------------------------\n",
      "loss: 0.572361  [   64/60000]\n",
      "loss: 0.693272  [ 6464/60000]\n",
      "loss: 0.755758  [12864/60000]\n",
      "loss: 0.709585  [19264/60000]\n",
      "loss: 0.766625  [25664/60000]\n",
      "loss: 0.769240  [32064/60000]\n",
      "loss: 0.783119  [38464/60000]\n",
      "loss: 0.798531  [44864/60000]\n",
      "loss: 0.729989  [51264/60000]\n",
      "loss: 0.826874  [57664/60000]\n",
      "Erro no Teste: \n",
      " Acurácia: 72.0%, Perda média: 0.760759 \n",
      "\n",
      "Fim do treino\n"
     ]
    }
   ],
   "source": [
    "epochs = 10\n",
    "for t in range(epochs):\n",
    "    print(f\"Epoch {t+1}\\n-------------------------------\")\n",
    "    loop_treino(train_dataloader, model, loss_fn, optimizer)\n",
    "    loop_teste(test_dataloader, model, loss_fn)\n",
    "print(\"Fim do treino\")"
   ]
  },
  {
   "cell_type": "markdown",
   "id": "efeac46e",
   "metadata": {},
   "source": [
    "## Diferenciação Automática"
   ]
  },
  {
   "cell_type": "markdown",
   "id": "69484dc6",
   "metadata": {},
   "source": [
    "Ao treinar redes neurais, o algoritmo mais usado é o **backpropagation**. Nele, os parâmetros (pesos do modelo) são ajustados com base no gradiente da função de perda em relação a cada parâmetro.\n",
    "\n",
    "Para calcular esses gradientes, o PyTorch conta com o motor de diferenciação automática chamado **torch.autograd**, que suporta o cálculo automático do gradiente para qualquer grafo computacional.\n",
    "\n",
    "Considere uma rede neural simples de uma camada, com entrada **x**, parâmetros **w** e **b**, e uma função de perda. Ela pode ser definida em PyTorch da seguinte forma:"
   ]
  },
  {
   "cell_type": "code",
   "execution_count": null,
   "id": "b19dc981",
   "metadata": {},
   "outputs": [],
   "source": [
    "import torch\n",
    "\n",
    "x = torch.ones(5)  # input tensor\n",
    "y = torch.zeros(3)  # expected output\n",
    "w = torch.randn(5, 3, requires_grad=True)\n",
    "b = torch.randn(3, requires_grad=True)\n",
    "z = torch.matmul(x, w)+b\n",
    "loss = torch.nn.functional.binary_cross_entropy_with_logits(z, y)"
   ]
  },
  {
   "cell_type": "markdown",
   "id": "ef99481e",
   "metadata": {},
   "source": [
    "Esse código define o grafo abaixo. Em que *w* e *b* são os parâmetros que precisamos otimizar. Ou seja, precisamos calcular gradientes da função de perda (*loss*) com respeito à estas variáveis. Para isso, setamos o valor da propriedade `requires_grad = True`. Também poderíamos fazer após a criação usando `w.requires_grad_(True)` "
   ]
  },
  {
   "cell_type": "markdown",
   "id": "13f916f8",
   "metadata": {},
   "source": [
    "![](https://docs.pytorch.org/tutorials/_images/comp-graph.png)"
   ]
  },
  {
   "cell_type": "markdown",
   "id": "7e69d98a",
   "metadata": {},
   "source": [
    "Para otimizar os pesos dos parâmetros na rede neural, precisamos calcular as derivadas da função de perda em relação aos parâmetros, ou seja,\n",
    "$\\frac{\\partial loss}{\\partial w}$ e $\\frac{\\partial loss}{\\partial b}$, para valores fixos de $x$ e $y$.\n",
    "\n",
    "Para calcular essas derivadas, chamamos **loss.backward()** e então acessamos os gradientes em **w\\.grad** e **b.grad**.\n"
   ]
  },
  {
   "cell_type": "code",
   "execution_count": null,
   "id": "d312ca0c",
   "metadata": {},
   "outputs": [
    {
     "name": "stdout",
     "output_type": "stream",
     "text": [
      "tensor([[0.2586, 0.3252, 0.0956],\n",
      "        [0.2586, 0.3252, 0.0956],\n",
      "        [0.2586, 0.3252, 0.0956],\n",
      "        [0.2586, 0.3252, 0.0956],\n",
      "        [0.2586, 0.3252, 0.0956]])\n",
      "tensor([0.2586, 0.3252, 0.0956])\n"
     ]
    }
   ],
   "source": [
    "loss.backward()\n",
    "print(w.grad)\n",
    "print(b.grad)"
   ]
  },
  {
   "cell_type": "markdown",
   "id": "6ac40ad3",
   "metadata": {},
   "source": [
    "Existem motivos para desativar o rastreamento de gradientes:\n",
    "\n",
    "* Para marcar alguns parâmetros da rede neural como congelados (não atualizados).\n",
    "* Para acelerar os cálculos quando estiver fazendo apenas a passagem forward, pois operações em tensores sem rastreamento de gradiente são mais eficientes.\n",
    "\n",
    "Para desabilitar o tracking dos gradientes usamos o bloco `torch.no_grad()`. \n"
   ]
  },
  {
   "cell_type": "code",
   "execution_count": null,
   "id": "8358cfcd",
   "metadata": {},
   "outputs": [
    {
     "name": "stdout",
     "output_type": "stream",
     "text": [
      "True\n",
      "False\n"
     ]
    }
   ],
   "source": [
    "z = torch.matmul(x, w)+b\n",
    "print(z.requires_grad)\n",
    "\n",
    "with torch.no_grad():\n",
    "    z = torch.matmul(x, w)+b\n",
    "print(z.requires_grad)"
   ]
  },
  {
   "cell_type": "markdown",
   "id": "3ff0492e",
   "metadata": {},
   "source": [
    "ou então o método `detach()` "
   ]
  },
  {
   "cell_type": "code",
   "execution_count": null,
   "id": "ad1688e4",
   "metadata": {},
   "outputs": [
    {
     "name": "stdout",
     "output_type": "stream",
     "text": [
      "False\n"
     ]
    }
   ],
   "source": [
    "z = torch.matmul(x, w)+b\n",
    "z_det = z.detach()\n",
    "print(z_det.requires_grad)"
   ]
  },
  {
   "cell_type": "markdown",
   "id": "4ac182ad",
   "metadata": {},
   "source": [
    "## Salvando e carregando modelos\n",
    "\n",
    "Para salvar ou carregar modelo, veja o tutorial [aqui](https://docs.pytorch.org/tutorials/beginner/basics/saveloadrun_tutorial.html)"
   ]
  },
  {
   "cell_type": "markdown",
   "id": "96beb34f",
   "metadata": {},
   "source": [
    "## Desafio\n",
    "\n",
    "Agora, você irá definir e treinar uma CNN para classificar as imagens do Fashion-MNIST. \n",
    "\n",
    "Lembre-se da arquitetura da ConvNet padrão vista na última aula:"
   ]
  },
  {
   "cell_type": "markdown",
   "id": "203b14ce",
   "metadata": {},
   "source": [
    "![](https://cdn.analyticsvidhya.com/wp-content/uploads/2020/10/90650dnn2.webp)"
   ]
  },
  {
   "cell_type": "markdown",
   "id": "e4c1e96f",
   "metadata": {},
   "source": [
    "Primeiro, carregue os dados e crie os DataLoaders com batchsize desejado:"
   ]
  },
  {
   "cell_type": "code",
   "execution_count": null,
   "id": "940d0c9d",
   "metadata": {},
   "outputs": [],
   "source": []
  },
  {
   "cell_type": "markdown",
   "id": "ee6c41d1",
   "metadata": {},
   "source": [
    "Agora, defina a ConvNet:"
   ]
  },
  {
   "cell_type": "code",
   "execution_count": null,
   "id": "e5a6e0de",
   "metadata": {},
   "outputs": [],
   "source": []
  },
  {
   "cell_type": "markdown",
   "id": "69233f31",
   "metadata": {},
   "source": [
    "Defina o loop de treinamento:"
   ]
  },
  {
   "cell_type": "code",
   "execution_count": null,
   "id": "eecadb40",
   "metadata": {},
   "outputs": [],
   "source": []
  },
  {
   "cell_type": "markdown",
   "id": "d052ee6a",
   "metadata": {},
   "source": [
    "Por fim, instancie a loss e o otimizador e, depois, treine e avalie seu modelo:"
   ]
  },
  {
   "cell_type": "code",
   "execution_count": null,
   "id": "b8d74443",
   "metadata": {},
   "outputs": [],
   "source": []
  },
  {
   "cell_type": "markdown",
   "id": "81c254a1",
   "metadata": {},
   "source": [
    "Tudo que você precisa está disponível neste notebook. Tente fazer tudo antes de consultar na internet."
   ]
  }
 ],
 "metadata": {
  "kernelspec": {
   "display_name": "monitoria",
   "language": "python",
   "name": "python3"
  },
  "language_info": {
   "codemirror_mode": {
    "name": "ipython",
    "version": 3
   },
   "file_extension": ".py",
   "mimetype": "text/x-python",
   "name": "python",
   "nbconvert_exporter": "python",
   "pygments_lexer": "ipython3",
   "version": "3.11.8"
  }
 },
 "nbformat": 4,
 "nbformat_minor": 5
}
