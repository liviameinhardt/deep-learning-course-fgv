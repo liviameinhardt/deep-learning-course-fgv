{
  "cells": [
    {
      "cell_type": "markdown",
      "metadata": {
        "id": "5xNEJ6JyC6nX"
      },
      "source": [
        "\n",
        "# Implementação e Avaliação do FixMatch com CIFAR-10\n",
        "\n",
        "### Objetivo\n",
        "Neste assignment, vocês implementarão o método FixMatch, uma técnica de aprendizado semi-supervisionado que combina aprendizado supervisionado e não supervisionado. O objetivo é aplicar o FixMatch ao dataset CIFAR-10 para treinar uma rede neural e avaliar os resultados obtidos com diferentes proporções de dados rotulados.\n",
        "\n",
        "### 1. Introdução ao FixMatch\n",
        "FixMatch é uma técnica que combina pseudo-rotulagem e consistência de dados aumentados. Em resumo, o método:\n",
        "- **Gera pseudo-rótulos** para dados não rotulados, utilizando uma predição confiável de dados fracamente aumentados.\n",
        "- **Aplica uma consistência de pseudo-rótulos**, onde a rede é treinada para produzir as mesmas previsões em versões fortemente aumentadas das mesmas imagens.\n",
        "\n",
        "Para mais informações sobre a arquitetura e a metodologia do FixMatch, vocês podem consultar o [paper original](https://arxiv.org/abs/2001.07685) e/ou ver os slides disponibilizados.\n",
        "\n",
        "### 2. Estrutura da Implementação\n",
        "\n",
        "1. **Dataset e Preparação dos Dados**  \n",
        "   - Use o CIFAR-10 como dataset.\n",
        "   - Prepare duas versões dos dados:\n",
        "     - **Dados rotulados:** Utilizem um subconjunto rotulado do CIFAR-10 com diferentes quantidades de rótulos por classe para experimentação.\n",
        "     - **Dados não rotulados:** O restante do CIFAR-10 deve ser usado como dados não rotulados.\n",
        "\n",
        "2. **Modelo Base**  \n",
        "   - Utilize um modelo de CNN simples ou uma arquitetura pré-definida (sugestão: ResNet-18) para a implementação.\n",
        "\n",
        "3. **Implementação do FixMatch**\n",
        "   - **Pseudo-rotulagem:** Implemente a geração de rótulos para os dados não rotulados usando predições de confiança de uma versão levemente aumentada da imagem.\n",
        "   - **Consistência de Augmentation:** Aplique uma versão fortemente aumentada da imagem e treine a rede para manter consistência nos pseudo-rótulos.\n",
        "   - **Função de Perda**:\n",
        "     - O FixMatch utiliza uma função de perda híbrida, combinando a perda supervisionada e a não supervisionada:\n",
        "       - **Perda Supervisionada:** Aplique a entropia cruzada entre os rótulos reais e as predições do modelo para os dados rotulados.\n",
        "       - **Perda Não Supervisionada (Consistência de Pseudo-rótulos):** Para os dados não rotulados, aplique uma entropia cruzada entre os pseudo-rótulos e as previsões das imagens aumentadas, incluindo apenas as amostras com confiança acima de um limite predefinido (threshold).\n",
        "       - A função de perda final é a soma ponderada das perdas supervisionada e não supervisionada.\n",
        "\n",
        "   - **Detalhes Importantes nas Seções 2.3 e 2.4 do paper**;\n",
        "\n",
        "4. **Treinamento e Otimização**\n",
        "\n",
        "### 3. Experimentos e Análise\n",
        "\n",
        "Para avaliar o desempenho do FixMatch, vocês devem realizar experimentos com diferentes quantidades de dados rotulados. Especificamente, testem com:\n",
        "\n",
        "1. **1 rótulo por classe** (total de 10 rótulos): Este experimento extremo explora o desempenho do FixMatch com uma quantidade mínima de dados rotulados. Observem a eficácia da técnica de pseudo-rotulagem nesse cenário.\n",
        "\n",
        "2. **4 rótulos por classe** (total de 40 rótulos): Com um conjunto pequeno, analisem o desempenho da rede com algumas amostras rotuladas e o impacto dos pseudo-rótulos.\n",
        "\n",
        "3. **25 rótulos por classe** (total de 250 rótulos): Esse experimento permitirá uma análise mais profunda da eficácia do FixMatch em cenários com uma quantidade moderada de rótulos.\n",
        "\n",
        "4. **400 rótulos por classe** (total de 4.000 rótulos): Avaliem o desempenho do modelo com um conjunto mais substancial de dados rotulados, investigando o impacto da quantidade crescente de rótulos.\n",
        "\n",
        "**Proponha pelo menos mais algum teste, fundamente sua escolha e discuta os resultados.**\n",
        "\n",
        "Para cada experimento:\n",
        "   - Treine o modelo e avalie a acurácia nos dados de teste.\n",
        "   - Documente os resultados e compare a eficácia do FixMatch com a quantidade de dados rotulados disponíveis.\n",
        "   - Analise o impacto dos pseudo-rótulos na qualidade do modelo, principalmente nos cenários com poucos rótulos (1, 4 e 25 rótulos por classe).\n",
        "\n",
        "### 4. Apresentação\n",
        "No final, vocês devem preparar e apresentar:\n",
        "\n",
        "1. Slides de apresentação ou relatório:\n",
        "- Explicação da implementação de cada parte do FixMatch. (simples e rápida)\n",
        "- Resultados e gráficos das avaliações para os quatro cenários de rótulos por classe. (Importante)\n",
        "- Análise sobre o impacto da quantidade de dados rotulados, a função de perda híbrida, e o efeito dos thresholds e data augmentation. (Importante)\n",
        "\n",
        "2. Apresentação de 10-15 minutos\n",
        "- Grave uma apresentação do seu slide/relatório cobrindo todos os pontos pedidos.\n",
        "\n",
        "*Note que a apresentação e o conteúdo dos slides deve cobrir todos os requisitos solicitados, pois sua avaliação vai depender 90% da apresentação. \n",
        "\n"
      ]
    }
  ],
  "metadata": {
    "colab": {
      "provenance": []
    },
    "kernelspec": {
      "display_name": "Python 3",
      "name": "python3"
    },
    "language_info": {
      "name": "python"
    }
  },
  "nbformat": 4,
  "nbformat_minor": 0
}
