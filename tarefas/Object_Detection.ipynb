{
 "cells": [
  {
   "cell_type": "markdown",
   "id": "cfa07f56",
   "metadata": {},
   "source": [
    "# **Programming Assignment 2 - Object Detection + Semantic Segmentation**\n",
    "\n",
    "#### **Professor**: Dário Oliveira  \n",
    "#### **Monitora**: Lívia Meinhardt\n",
    "\n",
    "\n",
    "O objetivo deste trabalho é construir um pipeline de visão computacional que primeiro **detecta** objetos em uma imagem e, em seguida, realiza a **segmentação semântica** em cada objeto detectado. Ou seja, uma segmentação de instância em duas etapas. \n",
    "\n",
    "Vocês irão construir e conectar dois modelos distintos:\n",
    "1.  Um **detector de objetos** (YOLO) para encontrar a localização dos objetos.\n",
    "2.  Um **segmentador semântico** (U-Net ou outro) para classificar os pixels dentro de cada objeto localizado.\n",
    "\n",
    "### **Instruções:**\n",
    "\n",
    "1. **Criação de um Dataset**:  \n",
    "Vocês usarão o dataset **[PASCAL VOC 2012](https://www.kaggle.com/datasets/gopalbhattrai/pascal-voc-2012-dataset)**. Este conjunto de dados é ideal porque fornece anotações tanto para **caixas delimitadoras** (*bounding boxes*), para a tarefa de detecção, quanto para **máscaras de segmentação** a nível de pixel. \n",
    "\n",
    "\n",
    "2. **Implementação e Treinamento da YOLO:**\n",
    "Sua primeira tarefa é fazer a implementação da YOLOv3, vista em aula. Treine um modelo que recebe uma imagem como entrada e retorna uma lista de predições, onde cada predição contém `(caixa_delimitadora, classe, score_de_confiança)`. Meça o desempenho do seu detector usando a métrica **Mean Average Precision (mAP)**.\n",
    "\n",
    "\n",
    "3. **Treinar o Segmentador Semântico:**\n",
    "Sua segunda tarefa é treinar um modelo **U-Net** ou outro de sua preferência para realizar a segmentação. O ponto crucial é que vocês não irão treinar a U-Net com imagens inteiras. Em vez disso, vocês a treinarão com **recortes de imagem (*patches*)** gerados a partir das caixas delimitadoras de referência (*ground-truth*) do dataset. Meça o desempenho do seu segmentador usando a métrica **Average Precision (AP).**\n",
    "\n",
    "4. **Construir o Pipeline de Inferência:**\n",
    "    Agora, conecte seus dois modelos treinados. Esta parte envolve escrever um script que executa a tarefa completa de ponta a ponta.\n",
    "\n",
    "    1.  **Detectar**: Use uma nova imagem de teste e passe-a pelo seu modelo **YOLOv3** treinado para obter uma lista de caixas delimitadoras preditas.\n",
    "    2.  **Recortar**: Para cada predição de alta confiança do YOLO, **recorte o *patch* da imagem** definido pela caixa delimitadora.\n",
    "    3.  **Segmentar**: Passe cada *patch* recortado pelo seu modelo **U-Net** treinado para obter uma máscara de segmentação para aquele objeto específico.\n",
    "    4.  **Combinar**: Crie uma imagem em branco (preta) do mesmo tamanho da imagem original. \"Costure\" cada máscara gerada de volta nesta imagem em branco, na sua localização original da caixa delimitadora.\n",
    "    5.  **Visualizar**: Sobreponha a máscara final combinada na imagem original para criar uma visualização final mostrando todos os objetos detectados e segmentados.\n",
    "\n",
    "\n",
    "5. **Compare com um método *end-to-end:***\n",
    "Por fim, faça *fine-tuning* do [**Mask R-CNN**](https://docs.pytorch.org/vision/main/models/mask_rcnn.html), um um modelo de segmentação de instância de ponta a ponta (*end-to-end*). Compare o desempenho com o seu pipeline de dois estágios e discuta as diferenças. \n",
    "\n",
    "\n",
    "### **Entrega:**\n",
    "\n",
    "Você deve enviar:\n",
    "\n",
    "1.  Um **Jupyter Notebook** contendo todo o seu código.\n",
    "2.  Os **pesos treinados** tanto do seu detector YOLOv3 quanto do seu segmentador U-Net.\n",
    "3.  Um **relatório ou apresentação** que discuta os desafios e resultados dos seus experimentos. "
   ]
  }
 ],
 "metadata": {
  "kernelspec": {
   "display_name": "monitoria",
   "language": "python",
   "name": "python3"
  },
  "language_info": {
   "codemirror_mode": {
    "name": "ipython",
    "version": 3
   },
   "file_extension": ".py",
   "mimetype": "text/x-python",
   "name": "python",
   "nbconvert_exporter": "python",
   "pygments_lexer": "ipython3",
   "version": "3.11.8"
  }
 },
 "nbformat": 4,
 "nbformat_minor": 5
}
